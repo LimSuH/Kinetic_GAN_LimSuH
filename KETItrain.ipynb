{
 "cells": [
  {
   "cell_type": "markdown",
   "metadata": {},
   "source": [
    "### make training data"
   ]
  },
  {
   "cell_type": "code",
   "execution_count": 4,
   "metadata": {},
   "outputs": [],
   "source": [
    "import numpy as np\n",
    "import pickle as pkl\n",
    "import os\n",
    "\n",
    "keti = '/users/neuron2/KSL_Gen/data/subset_annotation_norm.pkl'\n",
    "split = '/users/neuron2/KSL_Gen/data/subset_split_save_norm.pkl'\n",
    "mydata = '/users/neuron2/Kinetic-GAN/data/KETI'"
   ]
  },
  {
   "cell_type": "code",
   "execution_count": 2,
   "metadata": {},
   "outputs": [
    {
     "data": {
      "text/plain": [
       "{'frame_dir': 'KETI_SL_0000035213.mp4.npy',\n",
       " 'label': 6,\n",
       " 'img_shape': (1080, 1920),\n",
       " 'original_shape': (1080, 1920),\n",
       " 'total_frames': 129,\n",
       " 'num_person_raw': 1,\n",
       " 'keypoint': array([[[[0.5541886 , 0.0020763 ],\n",
       "          [0.7853971 , 0.27308825],\n",
       "          [0.13257284, 0.2900264 ],\n",
       "          ...,\n",
       "          [0.1107623 , 0.9849572 ],\n",
       "          [0.00970972, 0.9849572 ],\n",
       "          [0.00970972, 0.9849572 ]],\n",
       " \n",
       "         [[0.5500937 , 0.00311194],\n",
       "          [0.7948157 , 0.27402726],\n",
       "          [0.12862809, 0.2909596 ],\n",
       "          ...,\n",
       "          [0.13468854, 0.98559946],\n",
       "          [0.        , 0.98559946],\n",
       "          [0.0336718 , 0.98559946]],\n",
       " \n",
       "         [[0.55526257, 0.00163668],\n",
       "          [0.7865817 , 0.2727781 ],\n",
       "          [0.13344564, 0.28972438],\n",
       "          ...,\n",
       "          [0.11289147, 0.9850299 ],\n",
       "          [0.01179088, 0.9850299 ],\n",
       "          [0.01179088, 0.9850299 ]],\n",
       " \n",
       "         ...,\n",
       " \n",
       "         [[0.57207954, 0.00690847],\n",
       "          [0.80348814, 0.2696783 ],\n",
       "          [0.15009902, 0.2951076 ],\n",
       "          ...,\n",
       "          [0.22153778, 0.9822858 ],\n",
       "          [0.18782474, 0.9906291 ],\n",
       "          [0.18782474, 0.9906291 ]],\n",
       " \n",
       "         [[0.57207763, 0.00543439],\n",
       "          [0.8035845 , 0.26831576],\n",
       "          [0.14991803, 0.29375595],\n",
       "          ...,\n",
       "          [0.2210895 , 0.9812813 ],\n",
       "          [0.18736225, 0.98962814],\n",
       "          [0.18736225, 0.98962814]],\n",
       " \n",
       "         [[0.5723655 , 0.0067621 ],\n",
       "          [0.8037025 , 0.26945058],\n",
       "          [0.15051605, 0.29487208],\n",
       "          ...,\n",
       "          [0.22257058, 0.98181576],\n",
       "          [0.18886769, 0.9901566 ],\n",
       "          [0.18886769, 0.9901566 ]]]], dtype=float32),\n",
       " 'keypoint_score': array([[[0.9916203 , 0.8990575 , 0.87051654, ..., 0.79375523,\n",
       "          0.91959506, 0.8252263 ],\n",
       "         [0.9974122 , 0.90081125, 0.86460567, ..., 0.7694354 ,\n",
       "          0.9188409 , 0.7932291 ],\n",
       "         [0.99145746, 0.902569  , 0.8715017 , ..., 0.78929496,\n",
       "          0.9168029 , 0.82296675],\n",
       "         ...,\n",
       "         [0.99584454, 0.9025688 , 0.8744571 , ..., 0.7567133 ,\n",
       "          0.8787506 , 0.7641452 ],\n",
       "         [0.9907591 , 0.9043248 , 0.8749497 , ..., 0.7508022 ,\n",
       "          0.8903412 , 0.7679715 ],\n",
       "         [0.99306923, 0.9052025 , 0.8744571 , ..., 0.7566933 ,\n",
       "          0.8748412 , 0.7593645 ]]], dtype=float32)}"
      ]
     },
     "execution_count": 2,
     "metadata": {},
     "output_type": "execute_result"
    }
   ],
   "source": [
    "with open(keti, 'rb') as f:\n",
    "    ksl = pkl.load(f)\n",
    "\n",
    "anno = ksl['annotations']\n",
    "anno[0]"
   ]
  },
  {
   "cell_type": "code",
   "execution_count": null,
   "metadata": {},
   "outputs": [],
   "source": [
    "training = ksl['split']['train']\n",
    "testing = ksl['split']['test']"
   ]
  },
  {
   "cell_type": "code",
   "execution_count": null,
   "metadata": {},
   "outputs": [],
   "source": [
    "with open(split, 'rb') as f:\n",
    "    spl = pkl.load(f)"
   ]
  },
  {
   "cell_type": "code",
   "execution_count": null,
   "metadata": {},
   "outputs": [],
   "source": [
    "traind=spl['train']\n",
    "testd=spl['test']"
   ]
  },
  {
   "cell_type": "code",
   "execution_count": null,
   "metadata": {},
   "outputs": [],
   "source": [
    "trainSet = []\n",
    "trainName = []\n",
    "trainLabel = []\n",
    "for t, l in zip(traind, training):\n",
    "    kp = t['keypoint']\n",
    "    kp = np.transpose(kp, (2, 0, 1))\n",
    "    kp = np.expand_dims(kp, axis=-1)\n",
    "    trainSet.append(kp)\n",
    "\n",
    "    trainName.append(l)\n",
    "    trainLabel.append(t['label'])\n",
    "\n",
    "trainSet = np.array(trainSet)\n",
    "trainMeta = tuple([trainName, trainLabel])"
   ]
  },
  {
   "cell_type": "code",
   "execution_count": null,
   "metadata": {},
   "outputs": [],
   "source": [
    "testSet = []\n",
    "testName = []\n",
    "testLabel = []\n",
    "for t, l in zip(testd, testing):\n",
    "    kp = t['keypoint']\n",
    "    kp = np.transpose(kp, (2, 0, 1))\n",
    "    kp = np.expand_dims(kp, axis=-1)\n",
    "    testSet.append(kp)\n",
    "\n",
    "    testName.append(l)\n",
    "    testLabel.append(t['label'])\n",
    "\n",
    "testSet = np.array(testSet)\n",
    "testMeta = tuple([testName, testLabel])"
   ]
  },
  {
   "cell_type": "code",
   "execution_count": null,
   "metadata": {},
   "outputs": [],
   "source": [
    "np.save(os.path.join(mydata, 'train_data.npy'), trainSet)\n",
    "np.save(os.path.join(mydata, 'test_data.npy'), testSet)"
   ]
  },
  {
   "cell_type": "code",
   "execution_count": null,
   "metadata": {},
   "outputs": [],
   "source": [
    "with open(os.path.join(mydata, 'train_label.pkl'), 'wb') as f:\n",
    "    pkl.dump(trainMeta, f)\n",
    "\n",
    "with open(os.path.join(mydata, 'test_label.pkl'), 'wb') as f:\n",
    "    pkl.dump(testMeta, f)"
   ]
  },
  {
   "cell_type": "markdown",
   "metadata": {},
   "source": [
    "### check synthetic data"
   ]
  },
  {
   "cell_type": "code",
   "execution_count": 5,
   "metadata": {},
   "outputs": [],
   "source": [
    "rpath = '/users/neuron2/Kinetic-GAN/data/KETI/train_data.npy'\n",
    "rlabel = '/users/neuron2/Kinetic-GAN/data/KETI/train_label.pkl'"
   ]
  },
  {
   "cell_type": "code",
   "execution_count": 6,
   "metadata": {},
   "outputs": [],
   "source": [
    "path = 'runs/kinetic-gan/exp2/actions/10_1_trunc0.95_gen_data.npy'\n",
    "label = 'runs/kinetic-gan/exp2/actions/10_1_trunc0.95_gen_label.pkl'"
   ]
  },
  {
   "cell_type": "code",
   "execution_count": 7,
   "metadata": {},
   "outputs": [],
   "source": [
    "data = np.load(path)\n",
    "\n",
    "with open(label, 'rb') as f:\n",
    "    label = pkl.load(f)"
   ]
  },
  {
   "cell_type": "code",
   "execution_count": 12,
   "metadata": {},
   "outputs": [],
   "source": [
    "rnpy = np.load(rpath)\n",
    "\n",
    "with open(rlabel, 'rb') as f:\n",
    "    rclass = pkl.load(f)"
   ]
  },
  {
   "cell_type": "code",
   "execution_count": 4,
   "metadata": {},
   "outputs": [
    {
     "data": {
      "text/plain": [
       "(100, 2, 109, 27, 1)"
      ]
     },
     "execution_count": 4,
     "metadata": {},
     "output_type": "execute_result"
    }
   ],
   "source": [
    "data.shape"
   ]
  },
  {
   "cell_type": "code",
   "execution_count": 5,
   "metadata": {},
   "outputs": [
    {
     "data": {
      "text/plain": [
       "array([[0, 1, 2, 3, 4, 5, 6, 7, 8, 9, 0, 1, 2, 3, 4, 5, 6, 7, 8, 9, 0, 1,\n",
       "        2, 3, 4, 5, 6, 7, 8, 9, 0, 1, 2, 3, 4, 5, 6, 7, 8, 9, 0, 1, 2, 3,\n",
       "        4, 5, 6, 7, 8, 9, 0, 1, 2, 3, 4, 5, 6, 7, 8, 9, 0, 1, 2, 3, 4, 5,\n",
       "        6, 7, 8, 9, 0, 1, 2, 3, 4, 5, 6, 7, 8, 9, 0, 1, 2, 3, 4, 5, 6, 7,\n",
       "        8, 9, 0, 1, 2, 3, 4, 5, 6, 7, 8, 9],\n",
       "       [0, 1, 2, 3, 4, 5, 6, 7, 8, 9, 0, 1, 2, 3, 4, 5, 6, 7, 8, 9, 0, 1,\n",
       "        2, 3, 4, 5, 6, 7, 8, 9, 0, 1, 2, 3, 4, 5, 6, 7, 8, 9, 0, 1, 2, 3,\n",
       "        4, 5, 6, 7, 8, 9, 0, 1, 2, 3, 4, 5, 6, 7, 8, 9, 0, 1, 2, 3, 4, 5,\n",
       "        6, 7, 8, 9, 0, 1, 2, 3, 4, 5, 6, 7, 8, 9, 0, 1, 2, 3, 4, 5, 6, 7,\n",
       "        8, 9, 0, 1, 2, 3, 4, 5, 6, 7, 8, 9]])"
      ]
     },
     "execution_count": 5,
     "metadata": {},
     "output_type": "execute_result"
    }
   ],
   "source": [
    "label"
   ]
  },
  {
   "cell_type": "code",
   "execution_count": 6,
   "metadata": {},
   "outputs": [
    {
     "data": {
      "text/plain": [
       "(2, 109, 27, 1)"
      ]
     },
     "execution_count": 6,
     "metadata": {},
     "output_type": "execute_result"
    }
   ],
   "source": [
    "sample = data[0]\n",
    "sample.shape"
   ]
  },
  {
   "cell_type": "code",
   "execution_count": 7,
   "metadata": {},
   "outputs": [],
   "source": [
    "x = sample[0]\n",
    "y = sample[1]\n",
    "x = x.squeeze()\n",
    "y = y.squeeze()"
   ]
  },
  {
   "cell_type": "markdown",
   "metadata": {},
   "source": [
    "#### Draw skeleton with bone and joint"
   ]
  },
  {
   "cell_type": "code",
   "execution_count": 8,
   "metadata": {},
   "outputs": [],
   "source": [
    "limb_info = [(0,1),(1,3),(3,5), (0,2),(2,4),(4,6), \n",
    "             (5,7),(6,17),\n",
    "             (7,8),(7,9),(9,10),(7,11),(11,12),(7,13),(13,14),(7,15),(15,16), \n",
    "             (17,18),(17,19),(19,20),(17,21),(21,22),(21,23),(23,24),(17,25),(25,26)]"
   ]
  },
  {
   "cell_type": "code",
   "execution_count": 10,
   "metadata": {},
   "outputs": [
    {
     "data": {
      "image/png": "[encoded data removed]",
      "text/plain": [
       "<Figure size 640x480 with 1 Axes>"
      ]
     },
     "metadata": {},
     "output_type": "display_data"
    },
    {
     "data": {
      "image/png": "[encoded data removed]",
      "text/plain": [
       "<Figure size 640x480 with 1 Axes>"
      ]
     },
     "metadata": {},
     "output_type": "display_data"
    }
   ],
   "source": [
    "import matplotlib.pyplot as plt\n",
    "from IPython import display\n",
    "\n",
    "for xc, yc in zip(x, y):\n",
    "\n",
    "    for l in limb_info:\n",
    "        x1 = xc[l[0]]\n",
    "        x2 = xc[l[1]]\n",
    "        y1 = yc[l[0]]\n",
    "        y2 = yc[l[1]]\n",
    "        plt.plot([x1, x2], [y1, y2], color=\"red\")\n",
    "       \n",
    "    plt.scatter(xc, yc)\n",
    "    plt.gca().invert_xaxis()\n",
    "    plt.gca().invert_yaxis()\n",
    "    display.clear_output(wait=True)\n",
    "    display.display(plt.gcf())\n",
    "    plt.show()"
   ]
  },
  {
   "cell_type": "code",
   "execution_count": 9,
   "metadata": {},
   "outputs": [
    {
     "data": {
      "text/plain": [
       "((100, 2, 109, 27, 1), (2, 100))"
      ]
     },
     "execution_count": 9,
     "metadata": {},
     "output_type": "execute_result"
    }
   ],
   "source": [
    "data.shape, label.shape"
   ]
  },
  {
   "cell_type": "code",
   "execution_count": 16,
   "metadata": {},
   "outputs": [
    {
     "data": {
      "text/plain": [
       "(560, 2, 109, 27, 1)"
      ]
     },
     "execution_count": 16,
     "metadata": {},
     "output_type": "execute_result"
    }
   ],
   "source": [
    "rnpy.shape"
   ]
  },
  {
   "cell_type": "code",
   "execution_count": 33,
   "metadata": {},
   "outputs": [
    {
     "data": {
      "text/plain": [
       "(1, 109, 27, 1)"
      ]
     },
     "execution_count": 33,
     "metadata": {},
     "output_type": "execute_result"
    }
   ],
   "source": [
    "score = np.zeros((1, 109, 27, 1))\n",
    "score.shape"
   ]
  },
  {
   "cell_type": "code",
   "execution_count": 39,
   "metadata": {},
   "outputs": [
    {
     "data": {
      "text/plain": [
       "(100, 3, 109, 27, 1)"
      ]
     },
     "execution_count": 39,
     "metadata": {},
     "output_type": "execute_result"
    }
   ],
   "source": [
    "fake = []\n",
    "for d in data:\n",
    "    fake.append(np.concatenate((d, score), axis=0))\n",
    "\n",
    "fake = np.array(fake)\n",
    "fake.shape"
   ]
  },
  {
   "cell_type": "code",
   "execution_count": 40,
   "metadata": {},
   "outputs": [
    {
     "data": {
      "text/plain": [
       "(560, 3, 109, 27, 1)"
      ]
     },
     "execution_count": 40,
     "metadata": {},
     "output_type": "execute_result"
    }
   ],
   "source": [
    "real = []\n",
    "for r in rnpy:\n",
    "    real.append(np.concatenate((r, score), axis=0))\n",
    "\n",
    "real = np.array(real)\n",
    "real.shape"
   ]
  },
  {
   "cell_type": "code",
   "execution_count": 41,
   "metadata": {},
   "outputs": [],
   "source": [
    "np.save('/users/neuron2/Kinetic-GAN/data/KETI/metric/real.npy', real)\n",
    "np.save('/users/neuron2/Kinetic-GAN/data/KETI/metric/fake.npy', fake)"
   ]
  },
  {
   "cell_type": "markdown",
   "metadata": {},
   "source": [
    "### evaluate KETI training with FID score"
   ]
  },
  {
   "cell_type": "code",
   "execution_count": 1,
   "metadata": {},
   "outputs": [
    {
     "name": "stdout",
     "output_type": "stream",
     "text": [
      "Namespace(batch_size=16, dataset='keti', device='cuda:0', dims=2048, path=['data/KETI/metric/real.npy', 'data/KETI/train_label.pkl', 'data/KETI/metric/fake.npy', 'runs/kinetic-gan/exp2/actions/10_1_trunc0.95_gen_label.pkl'], t_size=64)\n",
      "block_idx 3\n",
      "/home/neuron2/anaconda3/envs/kineGAN/lib/python3.7/site-packages/torchvision/models/_utils.py:209: UserWarning: The parameter 'pretrained' is deprecated since 0.13 and may be removed in the future, please use 'weights' instead.\n",
      "  f\"The parameter '{pretrained_param}' is deprecated since 0.13 and may be removed in the future, \"\n",
      "/home/neuron2/anaconda3/envs/kineGAN/lib/python3.7/site-packages/torchvision/models/_utils.py:223: UserWarning: Arguments other than a weight enum or `None` for 'weights' are deprecated since 0.13 and may be removed in the future. The current behavior is equivalent to passing `weights=None`.\n",
      "  warnings.warn(msg)\n",
      "(560, 3, 109, 27, 1)\n",
      "None\n",
      "560\n",
      "100%|███████████████████████████████████████████| 35/35 [00:01<00:00, 26.74it/s]\n",
      "(100, 3, 109, 27, 1)\n",
      "None\n",
      "100\n",
      "100%|█████████████████████████████████████████████| 7/7 [00:00<00:00, 14.60it/s]\n",
      "FID:  152.6785858428067\n"
     ]
    }
   ],
   "source": [
    "!python evaluation/fid-actions.py data/KETI/metric/real.npy data/KETI/train_label.pkl data/KETI/metric/fake.npy runs/kinetic-gan/exp2/actions/10_1_trunc0.95_gen_label.pkl"
   ]
  },
  {
   "cell_type": "markdown",
   "metadata": {},
   "source": [
    "### train loss plot"
   ]
  },
  {
   "cell_type": "code",
   "execution_count": 2,
   "metadata": {},
   "outputs": [
    {
     "name": "stderr",
     "output_type": "stream",
     "text": [
      "/home/neuron2/anaconda3/envs/kineGAN/lib/python3.7/importlib/_bootstrap.py:219: RuntimeWarning: numpy.ufunc size changed, may indicate binary incompatibility. Expected 192 from C header, got 216 from PyObject\n",
      "  return f(*args, **kwds)\n",
      "/home/neuron2/anaconda3/envs/kineGAN/lib/python3.7/importlib/_bootstrap.py:219: RuntimeWarning: numpy.ufunc size changed, may indicate binary incompatibility. Expected 192 from C header, got 216 from PyObject\n",
      "  return f(*args, **kwds)\n"
     ]
    }
   ],
   "source": [
    "import matplotlib.pyplot as plt\n",
    "import scipy.io\n",
    "\n",
    "mat_file_name =  \"/users/neuron2/Kinetic-GAN/runs/kinetic-gan/exp2/plot_loss.mat\"\n",
    "mat_file = scipy.io.loadmat(mat_file_name)"
   ]
  },
  {
   "cell_type": "code",
   "execution_count": 4,
   "metadata": {},
   "outputs": [
    {
     "name": "stdout",
     "output_type": "stream",
     "text": [
      "<class 'dict'>\n",
      "__header__\n",
      "__version__\n",
      "__globals__\n",
      "d_loss\n",
      "g_loss\n"
     ]
    }
   ],
   "source": [
    "print(type(mat_file))\n",
    "for i in mat_file:\n",
    "    print(i)"
   ]
  },
  {
   "cell_type": "code",
   "execution_count": 14,
   "metadata": {},
   "outputs": [
    {
     "data": {
      "text/plain": [
       "((1, 20400), (1, 20400))"
      ]
     },
     "execution_count": 14,
     "metadata": {},
     "output_type": "execute_result"
    }
   ],
   "source": [
    "d_loss = mat_file['d_loss']\n",
    "g_loss = mat_file['g_loss']\n",
    "g_loss.shape, d_loss.shape"
   ]
  },
  {
   "cell_type": "code",
   "execution_count": 15,
   "metadata": {},
   "outputs": [
    {
     "data": {
      "text/plain": [
       "(-201.69876, 107.351326)"
      ]
     },
     "execution_count": 15,
     "metadata": {},
     "output_type": "execute_result"
    }
   ],
   "source": [
    "xmin = 0\n",
    "ymin = min(min(d_loss[0]), min(g_loss[0]))\n",
    "ymax = max(max(d_loss[0]), max(g_loss[0]))\n",
    "ymin,ymax"
   ]
  },
  {
   "cell_type": "code",
   "execution_count": 17,
   "metadata": {},
   "outputs": [
    {
     "data": {
      "image/png": "[encoded data removed]",
      "text/plain": [
       "<Figure size 640x480 with 1 Axes>"
      ]
     },
     "metadata": {},
     "output_type": "display_data"
    }
   ],
   "source": [
    "plt.title(\"TRAIN LOSS\")\n",
    "plt.axis([0, 20400, ymin, ymax])\n",
    "plt.plot(d_loss[0], label=\"discriminator\", color='red')\n",
    "plt.plot(g_loss[0], label=\"generator\", color=\"blue\")\n",
    "plt.legend()\n",
    "plt.show()"
   ]
  }
 ],
 "metadata": {
  "kernelspec": {
   "display_name": "Python 3.7.15 ('kineGAN')",
   "language": "python",
   "name": "python3"
  },
  "language_info": {
   "codemirror_mode": {
    "name": "ipython",
    "version": 3
   },
   "file_extension": ".py",
   "mimetype": "text/x-python",
   "name": "python",
   "nbconvert_exporter": "python",
   "pygments_lexer": "ipython3",
   "version": "3.7.15"
  },
  "orig_nbformat": 4,
  "vscode": {
   "interpreter": {
    "hash": "f477acbdddfe05f07bc74b11871ab21f636b5fdefb7276db774bfca97706f84b"
   }
  }
 },
 "nbformat": 4,
 "nbformat_minor": 2
}
